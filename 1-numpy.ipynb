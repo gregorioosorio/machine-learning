{
 "cells": [
  {
   "cell_type": "markdown",
   "id": "136fc78d-f791-4243-90ae-21bd3a0aadc6",
   "metadata": {},
   "source": [
    "# Aprendiendo NumPy"
   ]
  },
  {
   "cell_type": "markdown",
   "id": "1fd0ed89-cca5-4031-8e48-8e3be391d08f",
   "metadata": {},
   "source": [
    "## Importar dependencias"
   ]
  },
  {
   "cell_type": "code",
   "execution_count": null,
   "id": "bdd927f9-d2c0-4acb-92b8-d7fd56e37ecb",
   "metadata": {},
   "outputs": [],
   "source": [
    "import numpy as np"
   ]
  },
  {
   "cell_type": "code",
   "execution_count": null,
   "id": "d874175a-d0ba-431d-9979-2eef75fda435",
   "metadata": {},
   "outputs": [],
   "source": [
    "import matplotlib.pyplot as plt"
   ]
  },
  {
   "cell_type": "markdown",
   "id": "26f174ec-8cda-4e27-bb47-04477425b426",
   "metadata": {},
   "source": [
    "## Arreglos en NumPy\n",
    "a. Convertir una lista de Python en un arreglo NumPy"
   ]
  },
  {
   "cell_type": "code",
   "execution_count": null,
   "id": "32ba837c-76dc-491b-9ae2-f9094512f120",
   "metadata": {},
   "outputs": [],
   "source": [
    "# Lista de números de Python\n",
    "python_list = [1,2,3,4,5]\n",
    "\n",
    "# Conversión a un arreglo NumPy\n",
    "numpy_arr = np.array(python_list)\n",
    "\n",
    "# Visualización del arreglo\n",
    "print(numpy_arr)"
   ]
  },
  {
   "cell_type": "markdown",
   "id": "2d296e20-bb64-4c59-9d7e-21d91cd5752c",
   "metadata": {},
   "source": [
    "b. Convertir una lista 2D de Python en un arreglo 2D NumPy"
   ]
  },
  {
   "cell_type": "code",
   "execution_count": null,
   "id": "54d16b0c-3312-43ad-a8f0-93c16355d44d",
   "metadata": {},
   "outputs": [],
   "source": [
    "# Lista 2D de números de Python\n",
    "python_list_2D = [[1,2,3],[4,5,6],[7,8,9]]\n",
    "\n",
    "# Conversión a un arreglo 2D NumPy\n",
    "numpy_arr_2D = np.array(python_list_2D)\n",
    "\n",
    "# Visualización del arreglo 2D\n",
    "print(numpy_arr_2D)"
   ]
  },
  {
   "cell_type": "markdown",
   "id": "702874f0-c571-47d9-b94a-4c0f28ababfd",
   "metadata": {},
   "source": [
    "## Atributos básicos de los arreglos NumPy\n",
    "En esta sección se muestra el uso de los atributos `shape`, `ndim`, `dtype` y `size`"
   ]
  },
  {
   "cell_type": "markdown",
   "id": "5f5bc23a-5db3-46ae-a1f0-b0565bc0ca8b",
   "metadata": {},
   "source": [
    "a. Ejemplo del atributo `shape`"
   ]
  },
  {
   "cell_type": "code",
   "execution_count": null,
   "id": "1d2714b2-ceaf-4e64-b84a-8eae0323f59b",
   "metadata": {},
   "outputs": [],
   "source": [
    "print(numpy_arr_2D)\n",
    "numpy_arr_2D.shape"
   ]
  },
  {
   "cell_type": "code",
   "execution_count": null,
   "id": "c75094a1-462f-45f4-8601-5b5e992b21a8",
   "metadata": {},
   "outputs": [],
   "source": [
    "np.array([[1,2,3],[4,5,6]]).shape"
   ]
  },
  {
   "cell_type": "markdown",
   "id": "8abd6fb2-1598-49c7-b727-1d9fd5bcd69d",
   "metadata": {},
   "source": [
    "b. Ejemplo del atributo `ndim`"
   ]
  },
  {
   "cell_type": "code",
   "execution_count": null,
   "id": "93e15492-91d2-4d49-8dea-d3124b269d0c",
   "metadata": {},
   "outputs": [],
   "source": [
    "numpy_arr.ndim"
   ]
  },
  {
   "cell_type": "code",
   "execution_count": null,
   "id": "def51ca8-09e7-4c17-b5b4-4ff17aa94761",
   "metadata": {},
   "outputs": [],
   "source": [
    "numpy_arr_2D.ndim"
   ]
  },
  {
   "cell_type": "markdown",
   "id": "8aaac2b7-94c9-4d86-b611-e840acc397dc",
   "metadata": {},
   "source": [
    "c. Ejemplo del atributo `dtype`"
   ]
  },
  {
   "cell_type": "code",
   "execution_count": null,
   "id": "f2c3658a-7584-46b2-a6b8-e60dcc197ee4",
   "metadata": {},
   "outputs": [],
   "source": [
    "numpy_arr_2D.dtype"
   ]
  },
  {
   "cell_type": "code",
   "execution_count": null,
   "id": "88aaa25c-d93c-4c36-80f1-2d4065d28cbf",
   "metadata": {},
   "outputs": [],
   "source": [
    "arr_32bit = np.array([5,6,7,8], dtype=np.int16)\n",
    "print(arr_32bit.dtype)"
   ]
  },
  {
   "cell_type": "markdown",
   "id": "9d0d6a5f-b4af-490a-a303-2ee91daaa3a0",
   "metadata": {},
   "source": [
    "d. Ejemplo de `size`"
   ]
  },
  {
   "cell_type": "code",
   "execution_count": null,
   "id": "a92873c0-784d-4b76-88a7-5a8223c7fc31",
   "metadata": {},
   "outputs": [],
   "source": [
    "numpy_arr.size"
   ]
  },
  {
   "cell_type": "code",
   "execution_count": null,
   "id": "d849f16c-53a5-44e8-a189-a9e9499c98b7",
   "metadata": {},
   "outputs": [],
   "source": [
    "numpy_arr_2D.size"
   ]
  },
  {
   "cell_type": "markdown",
   "id": "9d8dec5b-5139-4bc0-9aa4-fd99551ce036",
   "metadata": {},
   "source": [
    "## Creación de arreglos especiales de NumPy \n",
    "En este sección se muestra la creción de arreglos vacíos, llenos de ceros y unos"
   ]
  },
  {
   "cell_type": "markdown",
   "id": "451cca7e-0ffc-4e3f-a485-756e5d33be40",
   "metadata": {},
   "source": [
    "a. Crear arreglos vacíos"
   ]
  },
  {
   "cell_type": "code",
   "execution_count": null,
   "id": "7703f632-a71e-4106-907d-84bca2625209",
   "metadata": {},
   "outputs": [],
   "source": [
    "empty_arr = np.empty((2,4))\n",
    "empty_arr"
   ]
  },
  {
   "cell_type": "markdown",
   "id": "a6ef7a1a-fd76-492f-b95e-8524e26a1ea8",
   "metadata": {},
   "source": [
    "b. Crear arreglos llenos de ceros"
   ]
  },
  {
   "cell_type": "code",
   "execution_count": null,
   "id": "e0dde2cd-b05e-4f1d-823a-75221ca6c187",
   "metadata": {},
   "outputs": [],
   "source": [
    "zeros_arr = np.zeros((3, 2))\n",
    "zeros_arr"
   ]
  },
  {
   "cell_type": "markdown",
   "id": "863dfc86-6d6c-4388-9dcd-0a1a18fa1171",
   "metadata": {},
   "source": [
    "c. Crear arreglos llenos de unos"
   ]
  },
  {
   "cell_type": "code",
   "execution_count": null,
   "id": "590be0bf-2a84-4bc1-84a3-6ed5fc2ec973",
   "metadata": {},
   "outputs": [],
   "source": [
    "ones_arr = np.ones((3,3))\n",
    "ones_arr"
   ]
  },
  {
   "cell_type": "code",
   "execution_count": null,
   "id": "7492254a-19df-48b9-92f0-a07337c66836",
   "metadata": {},
   "outputs": [],
   "source": [
    "print(empty_arr.dtype)\n",
    "print(zeros_arr.dtype)\n",
    "print(ones_arr.dtype)"
   ]
  },
  {
   "cell_type": "code",
   "execution_count": null,
   "id": "64b91f6d-2b09-4b26-9516-f4057412464f",
   "metadata": {},
   "outputs": [],
   "source": [
    "np.empty((5,5), dtype=np.int16)"
   ]
  },
  {
   "cell_type": "markdown",
   "id": "11e301e2-c7e6-44a2-afcb-d9df6663164b",
   "metadata": {},
   "source": [
    "e. Crear arreglos con secuencias"
   ]
  },
  {
   "cell_type": "code",
   "execution_count": null,
   "id": "ceaf2a3d-bbae-4c37-a4da-b255c4fb3e47",
   "metadata": {},
   "outputs": [],
   "source": [
    "arr1 = np.arange(10)\n",
    "print(arr1)"
   ]
  },
  {
   "cell_type": "code",
   "execution_count": null,
   "id": "b4434879-cabb-4c24-b6c2-dab8227ada0d",
   "metadata": {},
   "outputs": [],
   "source": [
    "arr2 = np.arange(10).reshape(2,5)\n",
    "print(arr2)"
   ]
  },
  {
   "cell_type": "code",
   "execution_count": null,
   "id": "515df6c3-3c71-4cb6-b0b0-14d60045af21",
   "metadata": {},
   "outputs": [],
   "source": [
    "arr3 = np.arange(10,20,2)\n",
    "print(arr3)"
   ]
  },
  {
   "cell_type": "markdown",
   "id": "eebd5a3a-a837-4fb4-92c9-41b41ba82567",
   "metadata": {},
   "source": [
    "f. Crear arreglos espaciados uniformemente"
   ]
  },
  {
   "cell_type": "code",
   "execution_count": null,
   "id": "01c04416-fbcb-4b64-8592-c1d9a9e74033",
   "metadata": {},
   "outputs": [],
   "source": [
    "arr4 = np.linspace(10,20,5)\n",
    "print(arr4)"
   ]
  },
  {
   "cell_type": "markdown",
   "id": "7c19ee23-4854-4183-becb-4b33068d746f",
   "metadata": {},
   "source": [
    "## Visualización de datos usando MatplotLib"
   ]
  },
  {
   "cell_type": "code",
   "execution_count": null,
   "id": "a36ad440-0a58-4fe3-bc38-81af913907a3",
   "metadata": {},
   "outputs": [],
   "source": [
    "# Crear un arreglo de ángulos desde 0 hasta 2*pi\n",
    "rad = np.linspace(0, 2 * np.pi, 100)\n",
    "\n",
    "# Calcular el seno y el coseno de los ángulos\n",
    "sin = np.sin(rad)\n",
    "cos = np.cos(rad)\n",
    "\n",
    "# Crear un gráfico de seno y coseno\n",
    "plt.plot(rad, sin, label='Seno')\n",
    "plt.plot(rad, cos, label='Coseno')\n",
    "plt.legend()\n",
    "plt.xlabel('Ángulo (radianes)')\n",
    "plt.ylabel('Valor')\n",
    "plt.title('Gráfico de Seno y Coseno')\n",
    "plt.show()"
   ]
  },
  {
   "cell_type": "markdown",
   "id": "7a726b49-9d7d-43b8-8f6e-d7225c55d74b",
   "metadata": {},
   "source": [
    "## Operaciones numéricas básicas\n",
    "En este sección se muestra cómo realizar operaciones numéricas básicas con NumPy"
   ]
  },
  {
   "cell_type": "code",
   "execution_count": null,
   "id": "d394b49a-9dc1-432b-ba8a-1a507cb091f7",
   "metadata": {},
   "outputs": [],
   "source": [
    "# Crear dos arreglos\n",
    "a = np.array([1, 2, 3, 4])\n",
    "b = np.array([5, 6, 7, 8])"
   ]
  },
  {
   "cell_type": "markdown",
   "id": "6dc7e2a8-07ac-41b3-84bd-5d1738f8ac25",
   "metadata": {},
   "source": [
    "a. Operación de suma"
   ]
  },
  {
   "cell_type": "code",
   "execution_count": null,
   "id": "14d6f6ab-d7b8-450d-a0cd-c2965f76dd95",
   "metadata": {},
   "outputs": [],
   "source": [
    "# Suma de arreglos\n",
    "sum = a + b\n",
    "print(sum)"
   ]
  },
  {
   "cell_type": "markdown",
   "id": "0f222454-aaaa-45c5-b465-2a48321d4df3",
   "metadata": {},
   "source": [
    "b. Operación de resta"
   ]
  },
  {
   "cell_type": "code",
   "execution_count": null,
   "id": "623cf3e5-fc7f-4f67-b2e8-a160956a18d7",
   "metadata": {},
   "outputs": [],
   "source": [
    "# Resta de arreglos\n",
    "subtraction = a - b\n",
    "print(subtraction)"
   ]
  },
  {
   "cell_type": "markdown",
   "id": "1e791efe-e40b-403e-b62e-7bccee6335ae",
   "metadata": {},
   "source": [
    "c. Operación de multiplicación"
   ]
  },
  {
   "cell_type": "code",
   "execution_count": null,
   "id": "cedc7be9-79a5-427e-8974-03dbc4d151f4",
   "metadata": {},
   "outputs": [],
   "source": [
    "# Multiplicación de arreglos elemento por elemento\n",
    "multiplication = a * b\n",
    "print(multiplication)"
   ]
  },
  {
   "cell_type": "markdown",
   "id": "009ee7e3-79cd-4246-a61b-ddc59adc3781",
   "metadata": {},
   "source": [
    "## Números aleatorios con NumPy\n",
    "En este sección generaremos números aleatorios y crearemos un histograma"
   ]
  },
  {
   "cell_type": "code",
   "execution_count": null,
   "id": "f569c064-0f33-4efc-adc1-e294e6bd2230",
   "metadata": {},
   "outputs": [],
   "source": [
    "# Crear un generador de números aleatorios\n",
    "rg = np.random.default_rng(2)\n",
    "\n",
    "# Generar 1000 números aleatorios entre 0 y 1\n",
    "random = rg.random(100000)\n",
    "\n",
    "# Crear un histograma\n",
    "plt.hist(random, bins=100)\n",
    "plt.xlabel('Valor Aleatorio')\n",
    "plt.ylabel('Frecuencia')\n",
    "plt.title('Histograma de Números Aleatorios')\n",
    "plt.show()"
   ]
  },
  {
   "cell_type": "markdown",
   "id": "ca47bb83-b9f2-4689-8f6b-f679c5764ad3",
   "metadata": {},
   "source": [
    "## Estadísticas básicas\n",
    "En esta sección calcularemos estadísticas básicas de un arreglo NumPy"
   ]
  },
  {
   "cell_type": "code",
   "execution_count": null,
   "id": "8d57a1a3-6777-44cc-9456-70e087afae70",
   "metadata": {},
   "outputs": [],
   "source": [
    "# Crear un arreglo de números enteros\n",
    "statistics = np.random.randint(20, size=8)\n",
    "print(statistics)"
   ]
  },
  {
   "cell_type": "code",
   "execution_count": null,
   "id": "69f040c0-a336-4d10-afa2-70ed4d0c87ad",
   "metadata": {},
   "outputs": [],
   "source": [
    "# Calcular estadísticas básicas\n",
    "min = statistics.min()\n",
    "max = statistics.max()\n",
    "mean = statistics.mean()\n",
    "std = statistics.std()\n",
    "sum = statistics.sum()\n",
    "\n",
    "# Visualización de las estadísticas\n",
    "print(\"Mínimo:\", min)\n",
    "print(\"Máximo:\", max)\n",
    "print(\"Promedio:\", mean)\n",
    "print(\"Desviación Estándar:\", std)\n",
    "print(\"Sumatoria:\", sum)"
   ]
  },
  {
   "cell_type": "markdown",
   "id": "bdd35644-7946-4504-a7a8-7a1ef378bbbe",
   "metadata": {},
   "source": [
    "## Estadísticas 2D\n",
    "Em esta sección calcularemos estadisticas sobre arreglos 2D NumPy"
   ]
  },
  {
   "cell_type": "code",
   "execution_count": null,
   "id": "348f46fa-f261-472a-b887-6eed8870fcb7",
   "metadata": {},
   "outputs": [],
   "source": [
    "# Crear un arreglo 2D de números enteros\n",
    "statistics_2D = np.random.randint(20, size=(2, 5))\n",
    "print(statistics_2D)"
   ]
  },
  {
   "cell_type": "code",
   "execution_count": null,
   "id": "9e7b8989-77cf-454e-afdf-b59067d1d8ac",
   "metadata": {},
   "outputs": [],
   "source": [
    "# Calcular el mínimo por columnas y por filas\n",
    "min_col = statistics_2D.min(axis=0)\n",
    "min_row = statistics_2D.min(axis=1)\n",
    "\n",
    "# Visualización de las estadísticas\n",
    "print(\"Mínimo por Columnas:\", min_col)\n",
    "print(\"Mínimo por Filas:\", min_row)"
   ]
  },
  {
   "cell_type": "markdown",
   "id": "96f6b6d2-fe32-4d20-b670-973ade7723a5",
   "metadata": {},
   "source": [
    "## Filtrado y selección\n",
    "En esta sección filtraremos elementos en un arreglo NumPy"
   ]
  },
  {
   "cell_type": "code",
   "execution_count": null,
   "id": "19818397-bd39-4246-b145-cc6a1e617e08",
   "metadata": {},
   "outputs": [],
   "source": [
    "# Crear un arreglo 2D\n",
    "arr_2D = np.random.randint(20, size=(3, 4))\n",
    "print(arr_2D)"
   ]
  },
  {
   "cell_type": "code",
   "execution_count": null,
   "id": "df9eae29-c9cf-49f4-be0c-3be915b2e2f4",
   "metadata": {},
   "outputs": [],
   "source": [
    "# Filtrar elementos menores que 12\n",
    "filter = arr_2D < 12\n",
    "print(filter)"
   ]
  },
  {
   "cell_type": "code",
   "execution_count": null,
   "id": "2b8c9d0e-0bb4-4118-adbb-3d6d1d4bc527",
   "metadata": {},
   "outputs": [],
   "source": [
    "# Aplicamos el filtro\n",
    "result = arr_2D[filter]\n",
    "\n",
    "# Visualización de los resultados\n",
    "print(\"Arreglo Original:\")\n",
    "print(arr_2D)\n",
    "print(\"Arreglo Filtrado:\")\n",
    "print(result)"
   ]
  },
  {
   "cell_type": "markdown",
   "id": "c90c9244-7ccc-44b4-95db-1dfe3f427ea0",
   "metadata": {},
   "source": [
    "## Selección avanzada"
   ]
  },
  {
   "cell_type": "markdown",
   "id": "a5de199f-6051-4777-a199-2c0374851f58",
   "metadata": {},
   "source": [
    "a. Realizar selección de elementos en un arreglo 1D"
   ]
  },
  {
   "cell_type": "code",
   "execution_count": null,
   "id": "5004afff-df94-4019-b644-69958ad96d2d",
   "metadata": {},
   "outputs": [],
   "source": [
    "# Crear un arreglo 1D\n",
    "a1 = np.random.randint(20, size=10)\n",
    "print(a1)"
   ]
  },
  {
   "cell_type": "code",
   "execution_count": null,
   "id": "edb59aad-6b6d-403d-a6c6-c26dca2e07b5",
   "metadata": {},
   "outputs": [],
   "source": [
    "# Seleccionar elementos del índice 0 al 5 (no incluye el 6)\n",
    "subset1 = a1[0:6]\n",
    "print(subset1)"
   ]
  },
  {
   "cell_type": "code",
   "execution_count": null,
   "id": "2a386457-d809-4f9d-ad4b-e35568d2c77f",
   "metadata": {},
   "outputs": [],
   "source": [
    "# Seleccionar elementos con un paso de 2 (índices 0, 2, 4)\n",
    "subset2 = a1[0:6:2]\n",
    "print(subset2)"
   ]
  },
  {
   "cell_type": "code",
   "execution_count": null,
   "id": "25106cba-074e-4b64-86b9-48b76a355055",
   "metadata": {},
   "outputs": [],
   "source": [
    "# Seleccionar elementos con un paso de 2 desde el inicio hasta el final\n",
    "subset3 = a1[::2]\n",
    "print(subset3)"
   ]
  },
  {
   "cell_type": "markdown",
   "id": "b11310c7-b411-4850-8108-23c29dfc0efb",
   "metadata": {},
   "source": [
    "b. Realizar selección de elementos en un arreglo 2D"
   ]
  },
  {
   "cell_type": "code",
   "execution_count": null,
   "id": "daddb2dc-3075-4f3a-aac5-7c820877caa1",
   "metadata": {},
   "outputs": [],
   "source": [
    "# Crear un arreglo 2D\n",
    "a2 = np.random.randint(20, size=(8, 5))\n",
    "print(a2)"
   ]
  },
  {
   "cell_type": "code",
   "execution_count": null,
   "id": "0b044129-1b5c-476e-b513-96c63766f2ac",
   "metadata": {},
   "outputs": [],
   "source": [
    "# Seleccionar un elemento específico\n",
    "element = a2[1, 3]\n",
    "print(element)"
   ]
  },
  {
   "cell_type": "code",
   "execution_count": null,
   "id": "5148111a-87a0-4e2c-a9f9-83716a40ff16",
   "metadata": {},
   "outputs": [],
   "source": [
    "# Seleccionar filas completas\n",
    "whole_row_selection = a2[3:6, :]\n",
    "print(whole_row_selection)"
   ]
  },
  {
   "cell_type": "code",
   "execution_count": null,
   "id": "4909d3b5-4c4f-47ab-9f69-6d9049e103ef",
   "metadata": {},
   "outputs": [],
   "source": [
    "# Seleccionar columnas completas\n",
    "whole_column_selection = a2[:, 1]\n",
    "print(whole_column_selection)"
   ]
  },
  {
   "cell_type": "markdown",
   "id": "c0bde1e7-0af7-4df6-ae32-0a7655d7858a",
   "metadata": {},
   "source": [
    "c. Usar las funciones `argmax` y `argmin`"
   ]
  },
  {
   "cell_type": "code",
   "execution_count": null,
   "id": "f73b08fd-2983-4f58-a2e2-a5d0b433f36c",
   "metadata": {},
   "outputs": [],
   "source": [
    "# Índices de los máximos por columna\n",
    "print(a2.argmax(axis=0))"
   ]
  },
  {
   "cell_type": "code",
   "execution_count": null,
   "id": "3484b83a-0758-49e9-a96b-dd4b5cceea00",
   "metadata": {},
   "outputs": [],
   "source": [
    "# Índices de los mínimos por filas\n",
    "print(a2.argmin(axis=1))"
   ]
  }
 ],
 "metadata": {
  "kernelspec": {
   "display_name": "Python 3 (ipykernel)",
   "language": "python",
   "name": "python3"
  },
  "language_info": {
   "codemirror_mode": {
    "name": "ipython",
    "version": 3
   },
   "file_extension": ".py",
   "mimetype": "text/x-python",
   "name": "python",
   "nbconvert_exporter": "python",
   "pygments_lexer": "ipython3",
   "version": "3.11.5"
  }
 },
 "nbformat": 4,
 "nbformat_minor": 5
}
