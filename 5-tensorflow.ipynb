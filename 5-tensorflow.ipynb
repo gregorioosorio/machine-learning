{
 "cells": [
  {
   "cell_type": "markdown",
   "id": "80517e35-ad56-4283-bc44-55dd806a2005",
   "metadata": {},
   "source": [
    "# Aprendiendo TensorFlow"
   ]
  },
  {
   "cell_type": "markdown",
   "id": "e6b85f2b-8fd4-49be-9f85-793c073dbb9f",
   "metadata": {},
   "source": [
    "Iniciamos _JupyterLab_ con soporte a _TensorFlow_ usando _Docker_ (mas info [aquí](https://www.tensorflow.org/install/docker))"
   ]
  },
  {
   "cell_type": "markdown",
   "id": "1c2207cf-9dfc-429e-8de9-437b808310fc",
   "metadata": {},
   "source": [
    "```bash\n",
    "docker run -it -p 8888:8888 tensorflow/tensorflow:nightly-jupyter\n",
    "```"
   ]
  },
  {
   "cell_type": "markdown",
   "id": "b726a887-46e7-40a8-8257-a6b0b92ae429",
   "metadata": {},
   "source": [
    "Esto puede tardar un poco... luego te aparece el link que puedes usar para iniciar el _JupyterLab_ con soporter a _TensorFlow_:\n",
    "```bash\n",
    "To access the server, open this file in a browser:\n",
    "...\n",
    "http://127.0.0.1:8888/tree?token=xxx\n",
    "...\n",
    "```"
   ]
  },
  {
   "cell_type": "markdown",
   "id": "3038030f-16af-4b18-9651-4ea88d3728eb",
   "metadata": {},
   "source": [
    "Ingresas esa URL en tu navegador y listo! ya tienes _JupyterLab_ con soporte a _TensorFlow_ :)"
   ]
  },
  {
   "cell_type": "markdown",
   "id": "eebc874e-7b86-4e63-a6d1-ef4316680868",
   "metadata": {},
   "source": [
    "## Importamos _Tensorflow_"
   ]
  },
  {
   "cell_type": "code",
   "execution_count": 1,
   "id": "b6287308-1de6-4a16-8a25-e4246e8cdfbf",
   "metadata": {},
   "outputs": [
    {
     "name": "stderr",
     "output_type": "stream",
     "text": [
      "2024-02-21 04:03:43.758879: I tensorflow/core/util/port.cc:113] oneDNN custom operations are on. You may see slightly different numerical results due to floating-point round-off errors from different computation orders. To turn them off, set the environment variable `TF_ENABLE_ONEDNN_OPTS=0`.\n",
      "2024-02-21 04:03:43.787671: I tensorflow/core/platform/cpu_feature_guard.cc:210] This TensorFlow binary is optimized to use available CPU instructions in performance-critical operations.\n",
      "To enable the following instructions: AVX2 AVX_VNNI FMA, in other operations, rebuild TensorFlow with the appropriate compiler flags.\n"
     ]
    },
    {
     "name": "stdout",
     "output_type": "stream",
     "text": [
      "TensorFlow version: 2.17.0-dev20240219\n"
     ]
    }
   ],
   "source": [
    "import tensorflow as tf\n",
    "print(\"TensorFlow version:\", tf.__version__)"
   ]
  },
  {
   "cell_type": "markdown",
   "id": "329c8a30-7bed-4faa-b7e3-63c99a642a72",
   "metadata": {},
   "source": [
    "## Cargamos el dataset"
   ]
  },
  {
   "cell_type": "markdown",
   "id": "1a08b23b-4fa9-43c1-ba0b-e1cf8346def8",
   "metadata": {},
   "source": [
    "Cargamos el dataset MNIST. Ya que los valores de los pixéles están entre 0 y 255 los escalamos a valores entre 0 y 1 dividiendo entre 255.0. Esto también los convierte a valores punto flotante:"
   ]
  },
  {
   "cell_type": "code",
   "execution_count": 2,
   "id": "6319612f-867e-4ad2-b2f6-8fc0af37e607",
   "metadata": {},
   "outputs": [],
   "source": [
    "mnist = tf.keras.datasets.mnist\n",
    "\n",
    "(x_train, y_train), (x_test, y_test) = mnist.load_data()\n",
    "x_train, x_test = x_train / 255.0, x_test / 255.0"
   ]
  },
  {
   "cell_type": "markdown",
   "id": "c0d8675f-fbce-450f-9d94-b532a5d000a8",
   "metadata": {},
   "source": [
    "## Construimos el modelo"
   ]
  },
  {
   "cell_type": "markdown",
   "id": "8a917635-461c-44ba-8007-ad268de68995",
   "metadata": {},
   "source": [
    "Construimos un modelo secuencial usando: [tf.keras.Sequencial](https://www.tensorflow.org/api_docs/python/tf/keras/Sequential)"
   ]
  },
  {
   "cell_type": "code",
   "execution_count": 3,
   "id": "61c39984-2289-4c21-9641-ce5707900d37",
   "metadata": {},
   "outputs": [
    {
     "name": "stderr",
     "output_type": "stream",
     "text": [
      "/usr/local/lib/python3.11/dist-packages/keras/src/layers/reshaping/flatten.py:37: UserWarning: Do not pass an `input_shape`/`input_dim` argument to a layer. When using Sequential models, prefer using an `Input(shape)` object as the first layer in the model instead.\n",
      "  super().__init__(**kwargs)\n"
     ]
    }
   ],
   "source": [
    "model = tf.keras.models.Sequential([\n",
    "  tf.keras.layers.Flatten(input_shape=(28, 28)),\n",
    "  tf.keras.layers.Dense(128, activation='relu'),\n",
    "  tf.keras.layers.Dropout(0.2),\n",
    "  tf.keras.layers.Dense(10, activation='softmax')\n",
    "])"
   ]
  },
  {
   "cell_type": "markdown",
   "id": "2d21b313-9281-43a8-8d32-65f4e488b35b",
   "metadata": {},
   "source": [
    "Ahora compilamos el modelo:"
   ]
  },
  {
   "cell_type": "code",
   "execution_count": 4,
   "id": "0afccb5d-ba2d-416b-93be-9f959a8e13f3",
   "metadata": {},
   "outputs": [],
   "source": [
    "model.compile(optimizer='adam',\n",
    "              loss='sparse_categorical_crossentropy',\n",
    "              metrics=['accuracy'])"
   ]
  },
  {
   "cell_type": "markdown",
   "id": "53b47d1f-c101-467b-81ae-7b9bc7e47721",
   "metadata": {},
   "source": [
    "Entrenamos y evaluamos el modelo:"
   ]
  },
  {
   "cell_type": "code",
   "execution_count": 5,
   "id": "3dc1f2ad-548d-40dd-9ee5-d3f19f59e17a",
   "metadata": {},
   "outputs": [
    {
     "name": "stdout",
     "output_type": "stream",
     "text": [
      "Epoch 1/5\n",
      "\u001b[1m1875/1875\u001b[0m \u001b[32m━━━━━━━━━━━━━━━━━━━━\u001b[0m\u001b[37m\u001b[0m \u001b[1m2s\u001b[0m 933us/step - accuracy: 0.8527 - loss: 0.5040\n",
      "Epoch 2/5\n",
      "\u001b[1m1875/1875\u001b[0m \u001b[32m━━━━━━━━━━━━━━━━━━━━\u001b[0m\u001b[37m\u001b[0m \u001b[1m2s\u001b[0m 936us/step - accuracy: 0.9526 - loss: 0.1584\n",
      "Epoch 3/5\n",
      "\u001b[1m1875/1875\u001b[0m \u001b[32m━━━━━━━━━━━━━━━━━━━━\u001b[0m\u001b[37m\u001b[0m \u001b[1m2s\u001b[0m 904us/step - accuracy: 0.9679 - loss: 0.1079\n",
      "Epoch 4/5\n",
      "\u001b[1m1875/1875\u001b[0m \u001b[32m━━━━━━━━━━━━━━━━━━━━\u001b[0m\u001b[37m\u001b[0m \u001b[1m2s\u001b[0m 922us/step - accuracy: 0.9732 - loss: 0.0883\n",
      "Epoch 5/5\n",
      "\u001b[1m1875/1875\u001b[0m \u001b[32m━━━━━━━━━━━━━━━━━━━━\u001b[0m\u001b[37m\u001b[0m \u001b[1m3s\u001b[0m 1ms/step - accuracy: 0.9758 - loss: 0.0754\n"
     ]
    },
    {
     "data": {
      "text/plain": [
       "<keras.src.callbacks.history.History at 0x7ff35ead2cd0>"
      ]
     },
     "execution_count": 5,
     "metadata": {},
     "output_type": "execute_result"
    }
   ],
   "source": [
    "model.fit(x_train, y_train, epochs=5)"
   ]
  },
  {
   "cell_type": "code",
   "execution_count": 6,
   "id": "e10fd1bd-dcf8-47e3-a492-ddd607c9074c",
   "metadata": {},
   "outputs": [
    {
     "name": "stdout",
     "output_type": "stream",
     "text": [
      "313/313 - 0s - 750us/step - accuracy: 0.9772 - loss: 0.0722\n"
     ]
    },
    {
     "data": {
      "text/plain": [
       "[0.07221721857786179, 0.9771999716758728]"
      ]
     },
     "execution_count": 6,
     "metadata": {},
     "output_type": "execute_result"
    }
   ],
   "source": [
    "model.evaluate(x_test, y_test, verbose=2)"
   ]
  },
  {
   "cell_type": "code",
   "execution_count": null,
   "id": "4950b5b0-3645-402b-b6eb-9a3fc21de461",
   "metadata": {},
   "outputs": [],
   "source": []
  }
 ],
 "metadata": {
  "kernelspec": {
   "display_name": "Python 3 (ipykernel)",
   "language": "python",
   "name": "python3"
  },
  "language_info": {
   "codemirror_mode": {
    "name": "ipython",
    "version": 3
   },
   "file_extension": ".py",
   "mimetype": "text/x-python",
   "name": "python",
   "nbconvert_exporter": "python",
   "pygments_lexer": "ipython3",
   "version": "3.11.0rc1"
  }
 },
 "nbformat": 4,
 "nbformat_minor": 5
}
