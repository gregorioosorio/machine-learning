{
 "cells": [
  {
   "cell_type": "markdown",
   "id": "dfc9cca8-9352-4a95-ad00-41d89d239383",
   "metadata": {},
   "source": [
    "# Aprendiendo Matplotlib"
   ]
  },
  {
   "cell_type": "markdown",
   "id": "d0b4c877-14ad-45e3-ac83-f760e72871d8",
   "metadata": {},
   "source": [
    "## Agregando las dependencias"
   ]
  },
  {
   "cell_type": "code",
   "execution_count": null,
   "id": "546692d6-96af-4a0f-a1fd-21edfc990e7d",
   "metadata": {},
   "outputs": [],
   "source": [
    "import matplotlib.pyplot as plt\n",
    "import numpy as np"
   ]
  },
  {
   "cell_type": "markdown",
   "id": "c314137d-6e16-4a59-91fc-feac0733ceaf",
   "metadata": {},
   "source": [
    "## Gráfica Básica"
   ]
  },
  {
   "cell_type": "code",
   "execution_count": null,
   "id": "87a99e44-4a19-4c25-b76e-476319573c06",
   "metadata": {},
   "outputs": [],
   "source": [
    "x = [0,1,2,3,4,5]\n",
    "y = [0,2,4,6,8,10]\n",
    "\n",
    "## gráfica uno\n",
    "plt.plot(x,y,'g*--', label='2x')\n",
    "plt.title('Learning Matplotlib')\n",
    "plt.xlabel('X label')\n",
    "plt.ylabel('Y label')\n",
    "plt.xticks([0,1,2,3,4,5],[0.0,1.0,2.0,3.0,4.0,5.0])\n",
    "\n",
    "## gráfica dos\n",
    "x2 = np.arange(0,4.5,0.5)\n",
    "plt.plot(x2[:5],x2[:5]**2,'r+-')\n",
    "plt.plot(x2[4:],x2[4:]**2,'r+--')\n",
    "\n",
    "plt.legend()\n",
    "plt.show()"
   ]
  },
  {
   "cell_type": "markdown",
   "id": "871a277e-1b75-4f38-8be3-5408f77e0537",
   "metadata": {},
   "source": [
    "## Gráfico de barras"
   ]
  },
  {
   "cell_type": "code",
   "execution_count": null,
   "id": "737a1c65-cae2-4d7d-b62b-a38f8be85177",
   "metadata": {},
   "outputs": [],
   "source": [
    "labels = ['A', 'B', 'C']\n",
    "values = [100, 200, 30]\n",
    "\n",
    "bars = plt.bar(labels,values)\n",
    "bars[0].set_hatch('/')\n",
    "bars[1].set_hatch('O')\n",
    "bars[2].set_hatch('*')\n",
    "plt.show()"
   ]
  }
 ],
 "metadata": {
  "kernelspec": {
   "display_name": "Python 3 (ipykernel)",
   "language": "python",
   "name": "python3"
  },
  "language_info": {
   "codemirror_mode": {
    "name": "ipython",
    "version": 3
   },
   "file_extension": ".py",
   "mimetype": "text/x-python",
   "name": "python",
   "nbconvert_exporter": "python",
   "pygments_lexer": "ipython3",
   "version": "3.11.5"
  }
 },
 "nbformat": 4,
 "nbformat_minor": 5
}
