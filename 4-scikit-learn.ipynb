{
 "cells": [
  {
   "cell_type": "markdown",
   "id": "a8aae0a5-0eed-48af-a426-96c2473c6f81",
   "metadata": {},
   "source": [
    "# Aprendiendo _scikit-learn_"
   ]
  },
  {
   "cell_type": "markdown",
   "id": "a312e435-e285-40d1-b02f-6025cb2d6dd0",
   "metadata": {},
   "source": [
    "## Cargando datasets de ejemplo de _scikit-learn_"
   ]
  },
  {
   "cell_type": "code",
   "execution_count": null,
   "id": "eea92007-41e5-4d89-bc28-b9da011e8fee",
   "metadata": {},
   "outputs": [],
   "source": [
    "from sklearn import datasets\n",
    "iris = datasets.load_iris()\n",
    "digits = datasets.load_digits()"
   ]
  },
  {
   "cell_type": "markdown",
   "id": "a31a790e-6972-49ad-b932-95b8670ac83b",
   "metadata": {},
   "source": [
    "Accedemos a los datos a través de la propiedad `.data`, que es una matriz de dimensiones _n_samples_, _n_features_"
   ]
  },
  {
   "cell_type": "code",
   "execution_count": null,
   "id": "0a2a85a6-9c22-4038-8137-a8057f77ad75",
   "metadata": {},
   "outputs": [],
   "source": [
    "print(digits.data)"
   ]
  },
  {
   "cell_type": "code",
   "execution_count": null,
   "id": "a2c5aca8-8535-4202-8a92-415d894b09b3",
   "metadata": {},
   "outputs": [],
   "source": [
    "print(digits.data.shape)"
   ]
  },
  {
   "cell_type": "markdown",
   "id": "c61571ab-28e8-4b4d-afcd-c2a31b4f7bef",
   "metadata": {},
   "source": [
    "En el caso del conjunto de datos digits, `.target` nos proporciona la verdad fundamental para el conjunto, es decir, el número correspondiente a cada imagen de dígito que intentamos aprender."
   ]
  },
  {
   "cell_type": "code",
   "execution_count": null,
   "id": "229bdbf8-7fed-4af5-a196-aac1a99deb18",
   "metadata": {},
   "outputs": [],
   "source": [
    "digits.target"
   ]
  },
  {
   "cell_type": "code",
   "execution_count": null,
   "id": "c1b4f486-925b-44e2-bde2-2478c9b2881d",
   "metadata": {},
   "outputs": [],
   "source": [
    "digits.target.shape"
   ]
  },
  {
   "cell_type": "code",
   "execution_count": null,
   "id": "ec1deed3-cab4-45a3-9141-954a52fd42b9",
   "metadata": {},
   "outputs": [],
   "source": [
    "digits.images[0]"
   ]
  },
  {
   "cell_type": "markdown",
   "id": "03a8af24-e9e8-43d4-9b64-befd092b3186",
   "metadata": {},
   "source": [
    "## Entrenando y prediciendo usando _scikit-learn_"
   ]
  },
  {
   "cell_type": "markdown",
   "id": "05d42529-a6c0-4d03-a147-3a136ceb3776",
   "metadata": {},
   "source": [
    " En scikit-learn, un estimador para clasificación es un objeto Python que implementa los métodos `fit(X, y)` y `predict(T)`.\n",
    " Un ejemplo de estimador es la clase `sklearn.svm.SVC`, que implementa la clasificación de vectores de soporte."
   ]
  },
  {
   "cell_type": "code",
   "execution_count": null,
   "id": "79e172a6-7b30-4ebb-b51d-04b44a468fd2",
   "metadata": {},
   "outputs": [],
   "source": [
    "from sklearn import svm\n",
    "clf = svm.SVC(gamma=0.001, C=100)"
   ]
  },
  {
   "cell_type": "markdown",
   "id": "e743ce4e-d7d3-47ed-9066-fe94af96f18b",
   "metadata": {},
   "source": [
    "Elegir los parámetros del modelo es crucial. En este ejemplo, establecemos manualmente el valor de gamma. Sin embargo, para encontrar buenos valores, podemos utilizar herramientas como la búsqueda en cuadrícula y la validación cruzada."
   ]
  },
  {
   "cell_type": "markdown",
   "id": "e749e6e3-930d-4859-9251-60eae6a04c9e",
   "metadata": {},
   "source": [
    "La instancia del estimador `clf` se ajusta al modelo utilizando el método `fit. En este caso, usamos todas las imágenes de nuestro conjunto de datos, excepto la última, que reservamos para la predicción."
   ]
  },
  {
   "cell_type": "code",
   "execution_count": null,
   "id": "46a37b4c-ad13-4526-8fdc-df407b2c2b7c",
   "metadata": {},
   "outputs": [],
   "source": [
    "clf.fit(digits.data[:-1],digits.target[:-1])"
   ]
  },
  {
   "cell_type": "markdown",
   "id": "97171e47-d54f-4053-beaf-5c380db00be5",
   "metadata": {},
   "source": [
    "Ahora, con el modelo entrenado, podemos predecir nuevos valores. Utilizaremos la última imagen de `digits.data` para esto."
   ]
  },
  {
   "cell_type": "code",
   "execution_count": null,
   "id": "74c42d96-9e31-49a3-aeb3-0a8c8b4e40f5",
   "metadata": {},
   "outputs": [],
   "source": [
    "clf.predict(digits.data[-1:])"
   ]
  },
  {
   "cell_type": "code",
   "execution_count": null,
   "id": "deff4932-9e19-499a-8181-7ab1f467f71b",
   "metadata": {},
   "outputs": [],
   "source": [
    "Imprimimos la última imagen."
   ]
  },
  {
   "cell_type": "code",
   "execution_count": null,
   "id": "ce9788ad-b8c3-47b3-b1d2-294fda935e4d",
   "metadata": {},
   "outputs": [],
   "source": [
    "import matplotlib.pyplot as plt\n",
    "plt.imshow(digits.images[-1], cmap='gray_r', interpolation='nearest')\n",
    "plt.show()"
   ]
  }
 ],
 "metadata": {
  "kernelspec": {
   "display_name": "Python 3 (ipykernel)",
   "language": "python",
   "name": "python3"
  },
  "language_info": {
   "codemirror_mode": {
    "name": "ipython",
    "version": 3
   },
   "file_extension": ".py",
   "mimetype": "text/x-python",
   "name": "python",
   "nbconvert_exporter": "python",
   "pygments_lexer": "ipython3",
   "version": "3.11.5"
  }
 },
 "nbformat": 4,
 "nbformat_minor": 5
}
