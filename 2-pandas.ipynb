{
 "cells": [
  {
   "cell_type": "markdown",
   "id": "9acf6cba-37d0-427a-b88e-594e5646c4da",
   "metadata": {},
   "source": [
    "# Aprendiendo Pandas"
   ]
  },
  {
   "cell_type": "markdown",
   "id": "dfbec788-ab13-444a-aadf-97235b11812a",
   "metadata": {},
   "source": [
    "## Importar dependencias"
   ]
  },
  {
   "cell_type": "code",
   "execution_count": null,
   "id": "fa5026fe-369c-4612-9f22-4019dde2ff22",
   "metadata": {},
   "outputs": [],
   "source": [
    "import pandas as pd"
   ]
  },
  {
   "cell_type": "markdown",
   "id": "00dbd1bd-d475-4c35-bc04-d505870ba1ae",
   "metadata": {},
   "source": [
    "## Series de Pandas"
   ]
  },
  {
   "cell_type": "markdown",
   "id": "171c508b-6224-498b-b746-0e25832f6670",
   "metadata": {},
   "source": [
    "a. Crear una Serie llamada 'height' con datos de altura de personas en centímetros"
   ]
  },
  {
   "cell_type": "code",
   "execution_count": null,
   "id": "28b80930-3e79-4337-bfc6-9f9886e59fc5",
   "metadata": {},
   "outputs": [],
   "source": [
    "height_cm = [165, 180, 171, 155, 170, 167, 188, 201]\n",
    "height = pd.Series(height_cm)"
   ]
  },
  {
   "cell_type": "code",
   "execution_count": null,
   "id": "2886a5e9-8d4b-42c7-85e6-4fe630f3ebd9",
   "metadata": {},
   "outputs": [],
   "source": [
    "height"
   ]
  },
  {
   "cell_type": "markdown",
   "id": "985d58f9-e2f3-4694-816a-f80cea32dfd3",
   "metadata": {},
   "source": [
    "b. Mostrar los primeros 5 elementos de la Serie 'height'"
   ]
  },
  {
   "cell_type": "code",
   "execution_count": null,
   "id": "7279ffd0-4580-41c9-9025-bd4b5b8351ba",
   "metadata": {},
   "outputs": [],
   "source": [
    "height.head()"
   ]
  },
  {
   "cell_type": "markdown",
   "id": "7ae7f587-f9a9-4760-995a-c2166b78f640",
   "metadata": {},
   "source": [
    "c. Mostrar los primeros 2 elementos de la Serie 'height'"
   ]
  },
  {
   "cell_type": "code",
   "execution_count": null,
   "id": "d4e34aaf-1e29-4c75-a488-2e8b3a4e1579",
   "metadata": {},
   "outputs": [],
   "source": [
    "height.head(2)"
   ]
  },
  {
   "cell_type": "markdown",
   "id": "7035c21b-0d38-4b19-a45b-1edab6230f7e",
   "metadata": {},
   "source": [
    "d. Ordenar la Serie 'height' en orden ascendente"
   ]
  },
  {
   "cell_type": "code",
   "execution_count": null,
   "id": "6ea7afa9-0282-4d8c-b99c-7be8bdfd4e9a",
   "metadata": {},
   "outputs": [],
   "source": [
    "height.sort_values()"
   ]
  },
  {
   "cell_type": "markdown",
   "id": "46932c64-bafe-4845-b1a4-7e1a70fb4197",
   "metadata": {},
   "source": [
    "e. Obtener el valor máximo, mínimo, promedio y suma de la Serie `height`"
   ]
  },
  {
   "cell_type": "code",
   "execution_count": null,
   "id": "fca0391d-6a83-4a2c-9d64-ebfc48c84ff9",
   "metadata": {},
   "outputs": [],
   "source": [
    "height.max()"
   ]
  },
  {
   "cell_type": "code",
   "execution_count": null,
   "id": "17edc18d-eeb9-453c-a614-2ca905509080",
   "metadata": {},
   "outputs": [],
   "source": [
    "height.min()"
   ]
  },
  {
   "cell_type": "code",
   "execution_count": null,
   "id": "7797d3de-dec2-4c6b-bca1-41d326a0eff2",
   "metadata": {},
   "outputs": [],
   "source": [
    "height.mean()"
   ]
  },
  {
   "cell_type": "code",
   "execution_count": null,
   "id": "26f23e10-9fc4-4dac-819f-a0d1457e9da6",
   "metadata": {},
   "outputs": [],
   "source": [
    "height.sum()"
   ]
  },
  {
   "cell_type": "markdown",
   "id": "d989adf1-b393-44e3-a10c-3a0d3f6c0816",
   "metadata": {},
   "source": [
    "f. Obtener estadísticas descriptivas de la Serie `height`"
   ]
  },
  {
   "cell_type": "code",
   "execution_count": null,
   "id": "53905166-c8b9-4a66-b288-580efffbb60a",
   "metadata": {},
   "outputs": [],
   "source": [
    "height.describe()"
   ]
  },
  {
   "cell_type": "markdown",
   "id": "d3c281ed-2a20-4e82-baaf-d80a11be8f27",
   "metadata": {},
   "source": [
    "g. Contar el número de elementos en la Serie `height`"
   ]
  },
  {
   "cell_type": "code",
   "execution_count": null,
   "id": "1b5a0684-b49a-4c91-b2ad-09e7cf7925e5",
   "metadata": {},
   "outputs": [],
   "source": [
    "height.count()"
   ]
  },
  {
   "cell_type": "markdown",
   "id": "e564b924-d3a3-4630-b9b0-6b0987241406",
   "metadata": {},
   "source": [
    "h. Filtrar la Serie `height` para obtener las alturas mayores que 170 cm"
   ]
  },
  {
   "cell_type": "code",
   "execution_count": null,
   "id": "1d29b21c-7b69-41df-9fd7-0986f4cfd394",
   "metadata": {
    "scrolled": true
   },
   "outputs": [],
   "source": [
    "height > 170"
   ]
  },
  {
   "cell_type": "code",
   "execution_count": null,
   "id": "7574199e-bf02-47be-ba98-521cc3e215b6",
   "metadata": {},
   "outputs": [],
   "source": [
    "height[height > 170]"
   ]
  },
  {
   "cell_type": "code",
   "execution_count": null,
   "id": "dd4ff933-11d8-4244-83b2-147435b53e5a",
   "metadata": {},
   "outputs": [],
   "source": [
    "height[height > 170].count()"
   ]
  },
  {
   "cell_type": "markdown",
   "id": "02c5c1aa-0e7e-48f9-8f14-6b2b3cca8ecf",
   "metadata": {},
   "source": [
    "## Dataframes de Pandas"
   ]
  },
  {
   "cell_type": "markdown",
   "id": "05d759b1-e4d5-44ba-9997-7f07e68d1433",
   "metadata": {},
   "source": [
    "a. Crear un DataFrame llamado `people` con datos de personas"
   ]
  },
  {
   "cell_type": "code",
   "execution_count": null,
   "id": "5a1c7308-45ab-4750-a4cf-9a8b8794ec7c",
   "metadata": {},
   "outputs": [],
   "source": [
    "data = {\n",
    "    \"name\": [\"Stephanie\", \"Karen\", \"Brian\", \"Travis\", \"Evan\"],\n",
    "    \"birth_date\": [\"1994-09-25\", \"2002-05-01\", \"1992-03-12\", \"1995-07-11\", \"1992-09-29\"],\n",
    "    \"height_cm\": [153.20, 172.34, 187.57, 196.06, 163.61],\n",
    "    \"weight_kg\": [110.11, 96.80, 86.28, 67.14, 55.26]\n",
    "}"
   ]
  },
  {
   "cell_type": "code",
   "execution_count": null,
   "id": "cd660d9b-f68d-46f5-8c37-b89a0c36f6cf",
   "metadata": {},
   "outputs": [],
   "source": [
    "people = pd.DataFrame(data)"
   ]
  },
  {
   "cell_type": "code",
   "execution_count": null,
   "id": "6e8a65ed-10e7-4a5e-b804-f2f8bb1fd7be",
   "metadata": {},
   "outputs": [],
   "source": [
    "people.head(2)"
   ]
  },
  {
   "cell_type": "markdown",
   "id": "4bcc990c-34ba-414b-9de1-6d1bc7a7a868",
   "metadata": {},
   "source": [
    "b. Obtener estadísticas descriptivas del DataFrame `people`"
   ]
  },
  {
   "cell_type": "code",
   "execution_count": null,
   "id": "c648154f-7b9b-45d9-833c-73ab99a74f54",
   "metadata": {},
   "outputs": [],
   "source": [
    "people.describe()"
   ]
  },
  {
   "cell_type": "markdown",
   "id": "a8e40817-119c-47f7-82e7-7ab98ff2d980",
   "metadata": {},
   "source": [
    "c. Filtrar las personas con peso menor a 80 kg"
   ]
  },
  {
   "cell_type": "code",
   "execution_count": null,
   "id": "9f7dbe7f-ab89-4008-b2a8-97b90646494a",
   "metadata": {},
   "outputs": [],
   "source": [
    "people.weight_kg < 80.0"
   ]
  },
  {
   "cell_type": "code",
   "execution_count": null,
   "id": "0632ea37-8d0a-4812-8ff3-6b980951b9be",
   "metadata": {},
   "outputs": [],
   "source": [
    "people[people.weight_kg < 80]"
   ]
  },
  {
   "cell_type": "markdown",
   "id": "b01a1e42-2388-4652-a3ed-2438695ab4a1",
   "metadata": {},
   "source": [
    "d. Mostrar solo la columna `birth_date` de las personas con peso menor a 80 kg"
   ]
  },
  {
   "cell_type": "code",
   "execution_count": null,
   "id": "c5d6f8be-2c1e-453e-976f-f0a75ecc093a",
   "metadata": {},
   "outputs": [],
   "source": [
    "people[people.weight_kg < 80].birth_date"
   ]
  },
  {
   "cell_type": "markdown",
   "id": "64adc8e3-7d07-4a47-be94-505716dd17b1",
   "metadata": {},
   "source": [
    "e. Obtener estadísticas descriptivas de las personas con peso menor a 80 kg"
   ]
  },
  {
   "cell_type": "code",
   "execution_count": null,
   "id": "69d566bf-f063-4b17-9ca7-2f4db9abc13b",
   "metadata": {},
   "outputs": [],
   "source": [
    "people[people.weight_kg < 80].describe()"
   ]
  },
  {
   "cell_type": "markdown",
   "id": "1583cbcd-e1b8-4d32-a7e9-4679641c44c1",
   "metadata": {},
   "source": [
    "f. Leer datos desde el archivo CSV `workers.csv` en un DataFrame"
   ]
  },
  {
   "cell_type": "code",
   "execution_count": null,
   "id": "48ac7096-c057-4da0-9bab-f0dcd84ed240",
   "metadata": {},
   "outputs": [],
   "source": [
    "people = pd.read_csv(\"workers.csv\", index_col=\"id\")"
   ]
  },
  {
   "cell_type": "markdown",
   "id": "4c314885-79f8-499c-927f-ca320bef82bf",
   "metadata": {},
   "source": [
    "g. Mostrar los primeros elementos del DataFrame 'people'"
   ]
  },
  {
   "cell_type": "code",
   "execution_count": null,
   "id": "91159268-719e-4447-b280-6b467bb9967a",
   "metadata": {},
   "outputs": [],
   "source": [
    "people.head()"
   ]
  },
  {
   "cell_type": "markdown",
   "id": "217d0be0-4c6b-4825-8be7-00eee21ffe64",
   "metadata": {},
   "source": [
    "h. Contar el número de elementos en el DataFrame 'people'"
   ]
  },
  {
   "cell_type": "code",
   "execution_count": null,
   "id": "e37065bf-f55a-4d97-963d-0217c6398222",
   "metadata": {},
   "outputs": [],
   "source": [
    "people.count()"
   ]
  },
  {
   "cell_type": "markdown",
   "id": "77ffd8bf-eaec-4e51-8965-47abd444cb39",
   "metadata": {},
   "source": [
    "i. Filtrar las personas con peso menor a 80 kg en el DataFrame 'people'"
   ]
  },
  {
   "cell_type": "code",
   "execution_count": null,
   "id": "d8bede2f-e1f1-4d7e-a3cf-648d0270b8c4",
   "metadata": {},
   "outputs": [],
   "source": [
    "people.weight_kg < 80"
   ]
  },
  {
   "cell_type": "code",
   "execution_count": null,
   "id": "2e1e9c49-c48d-407f-973f-4b8827e2a785",
   "metadata": {},
   "outputs": [],
   "source": [
    "people[people.weight_kg < 80].head()"
   ]
  },
  {
   "cell_type": "markdown",
   "id": "6805d350-1e6c-49bf-b55f-e46071afa1d1",
   "metadata": {},
   "source": [
    "j. Guardar el resultado en un nuevo DataFrame `people_under_80kg`"
   ]
  },
  {
   "cell_type": "code",
   "execution_count": null,
   "id": "fa799711-6033-4002-8049-130dd29ee5ef",
   "metadata": {},
   "outputs": [],
   "source": [
    "people_under_80kg = people[people.weight_kg < 80]"
   ]
  },
  {
   "cell_type": "code",
   "execution_count": null,
   "id": "db4aa47f-12fe-44e3-83ac-d649d23c3343",
   "metadata": {},
   "outputs": [],
   "source": [
    "people_under_80kg.head()"
   ]
  },
  {
   "cell_type": "code",
   "execution_count": null,
   "id": "58002b5e-9a93-4148-adca-d6d32b85b387",
   "metadata": {},
   "outputs": [],
   "source": [
    "people_under_80kg.count()"
   ]
  },
  {
   "cell_type": "markdown",
   "id": "fff7a43e-9b57-48bc-b849-fc73e67b0764",
   "metadata": {},
   "source": [
    "k. Leer datos desde el archivo CSV: `workers_info.csv` en un nuevo DataFrame `company`"
   ]
  },
  {
   "cell_type": "code",
   "execution_count": null,
   "id": "6efed423-6df5-48c3-82c8-f5162391d999",
   "metadata": {},
   "outputs": [],
   "source": [
    "company = pd.read_csv(\"workers_info.csv\")"
   ]
  },
  {
   "cell_type": "code",
   "execution_count": null,
   "id": "3641a1d5-9d58-4a22-949f-6ef3ce4dec90",
   "metadata": {},
   "outputs": [],
   "source": [
    "company.head()"
   ]
  },
  {
   "cell_type": "markdown",
   "id": "afd1d059-830e-4afd-8332-9547d44936f8",
   "metadata": {},
   "source": [
    "l. Unir los DataFrames `people` y `company` usando la columna `id`"
   ]
  },
  {
   "cell_type": "code",
   "execution_count": null,
   "id": "1057b6ec-67ad-4e29-891a-69569bfca6b5",
   "metadata": {},
   "outputs": [],
   "source": [
    "workers = people.merge(company, left_on=\"id\", right_on=\"id\")"
   ]
  },
  {
   "cell_type": "code",
   "execution_count": null,
   "id": "6f80a301-c9da-4ecc-8690-1e5a9966bd41",
   "metadata": {},
   "outputs": [],
   "source": [
    "workers.head()"
   ]
  },
  {
   "cell_type": "markdown",
   "id": "2f0b9c33-7a3f-4229-981a-fe1a03c6c4a0",
   "metadata": {},
   "source": [
    "m. Convertir las letras en la columna `worker_id` a mayúsculas"
   ]
  },
  {
   "cell_type": "code",
   "execution_count": null,
   "id": "7703375b-7dd1-41eb-a29b-9aaf7a495587",
   "metadata": {},
   "outputs": [],
   "source": [
    "workers.loc[:, \"worker_id\"].str.upper()"
   ]
  },
  {
   "cell_type": "code",
   "execution_count": null,
   "id": "bfa7d146-4b61-4a76-ae75-1db2f54ddc66",
   "metadata": {},
   "outputs": [],
   "source": [
    "workers.loc[:, \"worker_id\"] = workers.loc[:, \"worker_id\"].str.upper()"
   ]
  },
  {
   "cell_type": "code",
   "execution_count": null,
   "id": "4bb4c1f8-7095-4516-823e-5cd56e6da8bb",
   "metadata": {},
   "outputs": [],
   "source": [
    "workers.head()"
   ]
  },
  {
   "cell_type": "markdown",
   "id": "a9c8caab-ed16-4650-95d2-b9c7b2de6300",
   "metadata": {},
   "source": [
    "n. Cambiar la primera letra a mayúscula en la columna `job`"
   ]
  },
  {
   "cell_type": "code",
   "execution_count": null,
   "id": "426e44d9-8f3d-4541-9cab-9f8a5c6b4ef9",
   "metadata": {},
   "outputs": [],
   "source": [
    "workers.loc[:, \"job\"] = workers.loc[:, \"job\"].str.title()"
   ]
  },
  {
   "cell_type": "code",
   "execution_count": null,
   "id": "a64ea79e-0f07-4a1e-8d87-596f641cff67",
   "metadata": {},
   "outputs": [],
   "source": [
    "workers.head()"
   ]
  },
  {
   "cell_type": "markdown",
   "id": "9086127a-cf1d-4f19-9889-983ddb9cf704",
   "metadata": {},
   "source": [
    "ñ. Agregar una columna `registration-year` que contenga el año en que el trabajador empezó"
   ]
  },
  {
   "cell_type": "code",
   "execution_count": null,
   "id": "6e4c5bbe-b19e-458d-b734-ce6c9caade04",
   "metadata": {},
   "outputs": [],
   "source": [
    "# Convertir la columna registration_date a tipo Date\n",
    "workers[\"registration_date\"] = pd.to_datetime(workers[\"registration_date\"], format=\"%Y-%m-%d\")"
   ]
  },
  {
   "cell_type": "code",
   "execution_count": null,
   "id": "bf94c59a-5107-4685-8dce-20bdbf8b2239",
   "metadata": {},
   "outputs": [],
   "source": [
    "workers.dtypes"
   ]
  },
  {
   "cell_type": "code",
   "execution_count": null,
   "id": "560266de-caab-4d3f-92ea-8384b1dc26f5",
   "metadata": {},
   "outputs": [],
   "source": [
    "workers[\"registration-year\"] = workers.registration_date.dt.year"
   ]
  },
  {
   "cell_type": "code",
   "execution_count": null,
   "id": "20c7ade8-7740-435b-9174-68421741655d",
   "metadata": {},
   "outputs": [],
   "source": [
    "workers.head()"
   ]
  },
  {
   "cell_type": "markdown",
   "id": "016ee4c9-7776-4ee3-8851-cc586f3ed5c3",
   "metadata": {},
   "source": [
    "o. Agregar una columna `registration-year-month` que contiene el año y mes de inicio"
   ]
  },
  {
   "cell_type": "code",
   "execution_count": null,
   "id": "bab07d81-3c6a-4dfb-b79a-2df57eb19a7a",
   "metadata": {},
   "outputs": [],
   "source": [
    "workers[\"registration-year-month\"] = workers.registration_date.dt.strftime(\"%Y-%m\")"
   ]
  },
  {
   "cell_type": "code",
   "execution_count": null,
   "id": "019f5a38-4994-4d42-bfd2-4c27e0f670c2",
   "metadata": {},
   "outputs": [],
   "source": [
    "workers.head()"
   ]
  },
  {
   "cell_type": "markdown",
   "id": "f81e8b71-97c1-471d-992f-bf62ace3b7f3",
   "metadata": {},
   "source": [
    "p. Filtrar trabajadores en compañía tipo `LLC`"
   ]
  },
  {
   "cell_type": "code",
   "execution_count": null,
   "id": "f4075336-b205-4bd4-9c5e-c2b983ded271",
   "metadata": {},
   "outputs": [],
   "source": [
    "workers[workers[\"company\"].str.contains(\"LLC\")]"
   ]
  }
 ],
 "metadata": {
  "kernelspec": {
   "display_name": "Python 3 (ipykernel)",
   "language": "python",
   "name": "python3"
  },
  "language_info": {
   "codemirror_mode": {
    "name": "ipython",
    "version": 3
   },
   "file_extension": ".py",
   "mimetype": "text/x-python",
   "name": "python",
   "nbconvert_exporter": "python",
   "pygments_lexer": "ipython3",
   "version": "3.11.5"
  }
 },
 "nbformat": 4,
 "nbformat_minor": 5
}
